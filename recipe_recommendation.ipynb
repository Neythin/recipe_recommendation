{
 "cells": [
  {
   "cell_type": "markdown",
   "metadata": {},
   "source": [
    "## Imports"
   ]
  },
  {
   "cell_type": "code",
   "execution_count": 141,
   "metadata": {},
   "outputs": [],
   "source": [
    "import os\n",
    "import sys\n",
    "import logging\n",
    "\n",
    "import numpy as np\n",
    "import pandas as pd\n",
    "\n",
    "from gensim.models import word2vec\n",
    "\n",
    "import config\n",
    "from finding_scraps import *"
   ]
  },
  {
   "cell_type": "markdown",
   "metadata": {},
   "source": [
    "## Data Cleaning"
   ]
  },
  {
   "cell_type": "code",
   "execution_count": 144,
   "metadata": {},
   "outputs": [
    {
     "data": {
      "text/html": [
       "<div>\n",
       "<style scoped>\n",
       "    .dataframe tbody tr th:only-of-type {\n",
       "        vertical-align: middle;\n",
       "    }\n",
       "\n",
       "    .dataframe tbody tr th {\n",
       "        vertical-align: top;\n",
       "    }\n",
       "\n",
       "    .dataframe thead th {\n",
       "        text-align: right;\n",
       "    }\n",
       "</style>\n",
       "<table border=\"1\" class=\"dataframe\">\n",
       "  <thead>\n",
       "    <tr style=\"text-align: right;\">\n",
       "      <th></th>\n",
       "      <th>name</th>\n",
       "      <th>text</th>\n",
       "      <th>ingredient</th>\n",
       "      <th>energy</th>\n",
       "      <th>type_kitchen</th>\n",
       "      <th>time_cook</th>\n",
       "      <th>link</th>\n",
       "      <th>label</th>\n",
       "    </tr>\n",
       "  </thead>\n",
       "  <tbody>\n",
       "    <tr>\n",
       "      <th>0</th>\n",
       "      <td>Breakfast for the lazy</td>\n",
       "      <td>Put cottage cheese in a wide bowl, add an egg,...</td>\n",
       "      <td>Chicken egg: 1 piece, soft cottage cheese: 200...</td>\n",
       "      <td>Calorius 87 kcal, proteins 8 grams, fats 2 gra...</td>\n",
       "      <td>Russian kitchen</td>\n",
       "      <td>15 minutes</td>\n",
       "      <td>https://eda.ru/recepty/zavtraki/zavtrak-dlja-l...</td>\n",
       "      <td>Breakfast</td>\n",
       "    </tr>\n",
       "    <tr>\n",
       "      <th>1</th>\n",
       "      <td>Breek breakfast</td>\n",
       "      <td>Rinse buckwheat, pour 2 cups of boiling water,...</td>\n",
       "      <td>Buckwheat cereal: 1 cup, chopped parsley: to t...</td>\n",
       "      <td>Calorius 284 kcal, proteins 6 grams, fats 11 g...</td>\n",
       "      <td>Russian kitchen</td>\n",
       "      <td>1 hour 20 minutes</td>\n",
       "      <td>https://eda.ru/recepty/zavtraki/grechnevij-zav...</td>\n",
       "      <td>Breakfast</td>\n",
       "    </tr>\n",
       "    <tr>\n",
       "      <th>2</th>\n",
       "      <td>Childhood breakfast</td>\n",
       "      <td>Grate the carrots and green apple on the middl...</td>\n",
       "      <td>Carrots: 1 piece, apple: 1 piece, oranges: 1 p...</td>\n",
       "      <td>Caloria 623 kcal, proteins 13 grams, fats 22 g...</td>\n",
       "      <td>Russian kitchen</td>\n",
       "      <td>5 minutes</td>\n",
       "      <td>https://eda.ru/recepty/zavtraki/zavtrak-detstv...</td>\n",
       "      <td>Breakfast</td>\n",
       "    </tr>\n",
       "    <tr>\n",
       "      <th>3</th>\n",
       "      <td>Full English breakfast</td>\n",
       "      <td>Heat the oven to 180 degrees, and the frying p...</td>\n",
       "      <td>Chicken egg: 2 pieces, pork sausages: 2 pieces...</td>\n",
       "      <td>Caloria 907 kcal, proteins 26 grams, fats 75 g...</td>\n",
       "      <td>British cuisine</td>\n",
       "      <td>30 minutes</td>\n",
       "      <td>https://eda.ru/recepty/zavtraki/polnyy-angliys...</td>\n",
       "      <td>Breakfast</td>\n",
       "    </tr>\n",
       "    <tr>\n",
       "      <th>4</th>\n",
       "      <td>French croutons for breakfast</td>\n",
       "      <td>Mix the egg with milk.Salt.Dip the pieces of t...</td>\n",
       "      <td>Baton: 3 pieces, milk: 2 tablespoons, chicken ...</td>\n",
       "      <td>Caloria 519 kcal, proteins 16 grams, fats 29 g...</td>\n",
       "      <td>French cuisine</td>\n",
       "      <td>10 minutes</td>\n",
       "      <td>https://eda.ru/recepty/zavtraki/francuzskie-gr...</td>\n",
       "      <td>Breakfast</td>\n",
       "    </tr>\n",
       "  </tbody>\n",
       "</table>\n",
       "</div>"
      ],
      "text/plain": [
       "                            name  \\\n",
       "0         Breakfast for the lazy   \n",
       "1                Breek breakfast   \n",
       "2            Childhood breakfast   \n",
       "3         Full English breakfast   \n",
       "4  French croutons for breakfast   \n",
       "\n",
       "                                                text  \\\n",
       "0  Put cottage cheese in a wide bowl, add an egg,...   \n",
       "1  Rinse buckwheat, pour 2 cups of boiling water,...   \n",
       "2  Grate the carrots and green apple on the middl...   \n",
       "3  Heat the oven to 180 degrees, and the frying p...   \n",
       "4  Mix the egg with milk.Salt.Dip the pieces of t...   \n",
       "\n",
       "                                          ingredient  \\\n",
       "0  Chicken egg: 1 piece, soft cottage cheese: 200...   \n",
       "1  Buckwheat cereal: 1 cup, chopped parsley: to t...   \n",
       "2  Carrots: 1 piece, apple: 1 piece, oranges: 1 p...   \n",
       "3  Chicken egg: 2 pieces, pork sausages: 2 pieces...   \n",
       "4  Baton: 3 pieces, milk: 2 tablespoons, chicken ...   \n",
       "\n",
       "                                              energy     type_kitchen  \\\n",
       "0  Calorius 87 kcal, proteins 8 grams, fats 2 gra...  Russian kitchen   \n",
       "1  Calorius 284 kcal, proteins 6 grams, fats 11 g...  Russian kitchen   \n",
       "2  Caloria 623 kcal, proteins 13 grams, fats 22 g...  Russian kitchen   \n",
       "3  Caloria 907 kcal, proteins 26 grams, fats 75 g...  British cuisine   \n",
       "4  Caloria 519 kcal, proteins 16 grams, fats 29 g...   French cuisine   \n",
       "\n",
       "           time_cook                                               link  \\\n",
       "0         15 minutes  https://eda.ru/recepty/zavtraki/zavtrak-dlja-l...   \n",
       "1  1 hour 20 minutes  https://eda.ru/recepty/zavtraki/grechnevij-zav...   \n",
       "2          5 minutes  https://eda.ru/recepty/zavtraki/zavtrak-detstv...   \n",
       "3         30 minutes  https://eda.ru/recepty/zavtraki/polnyy-angliys...   \n",
       "4         10 minutes  https://eda.ru/recepty/zavtraki/francuzskie-gr...   \n",
       "\n",
       "       label  \n",
       "0  Breakfast  \n",
       "1  Breakfast  \n",
       "2  Breakfast  \n",
       "3  Breakfast  \n",
       "4  Breakfast  "
      ]
     },
     "execution_count": 144,
     "metadata": {},
     "output_type": "execute_result"
    }
   ],
   "source": [
    "data = pd.read_csv('food-dataset-en.csv')\n",
    "data.head()"
   ]
  },
  {
   "cell_type": "code",
   "execution_count": 150,
   "metadata": {},
   "outputs": [
    {
     "ename": "SyntaxError",
     "evalue": "invalid syntax (<unknown>, line 1)",
     "output_type": "error",
     "traceback": [
      "Traceback \u001b[1;36m(most recent call last)\u001b[0m:\n",
      "\u001b[0m  File \u001b[0;32m~\\AppData\\Local\\Packages\\PythonSoftwareFoundation.Python.3.10_qbz5n2kfra8p0\\LocalCache\\local-packages\\Python310\\site-packages\\IPython\\core\\interactiveshell.py:3460\u001b[0m in \u001b[0;35mrun_code\u001b[0m\n    exec(code_obj, self.user_global_ns, self.user_ns)\u001b[0m\n",
      "\u001b[0m  Cell \u001b[0;32mIn[150], line 1\u001b[0m\n    data['parsed_new'] = data['ingredient'].apply(ingredient_parser)\u001b[0m\n",
      "\u001b[0m  File \u001b[0;32m~\\AppData\\Local\\Packages\\PythonSoftwareFoundation.Python.3.10_qbz5n2kfra8p0\\LocalCache\\local-packages\\Python310\\site-packages\\pandas\\core\\series.py:4760\u001b[0m in \u001b[0;35mapply\u001b[0m\n    ).apply()\u001b[0m\n",
      "\u001b[0m  File \u001b[0;32m~\\AppData\\Local\\Packages\\PythonSoftwareFoundation.Python.3.10_qbz5n2kfra8p0\\LocalCache\\local-packages\\Python310\\site-packages\\pandas\\core\\apply.py:1207\u001b[0m in \u001b[0;35mapply\u001b[0m\n    return self.apply_standard()\u001b[0m\n",
      "\u001b[0m  File \u001b[0;32m~\\AppData\\Local\\Packages\\PythonSoftwareFoundation.Python.3.10_qbz5n2kfra8p0\\LocalCache\\local-packages\\Python310\\site-packages\\pandas\\core\\apply.py:1287\u001b[0m in \u001b[0;35mapply_standard\u001b[0m\n    mapped = obj._map_values(\u001b[0m\n",
      "\u001b[0m  File \u001b[0;32m~\\AppData\\Local\\Packages\\PythonSoftwareFoundation.Python.3.10_qbz5n2kfra8p0\\LocalCache\\local-packages\\Python310\\site-packages\\pandas\\core\\base.py:921\u001b[0m in \u001b[0;35m_map_values\u001b[0m\n    return algorithms.map_array(arr, mapper, na_action=na_action, convert=convert)\u001b[0m\n",
      "\u001b[0m  File \u001b[0;32m~\\AppData\\Local\\Packages\\PythonSoftwareFoundation.Python.3.10_qbz5n2kfra8p0\\LocalCache\\local-packages\\Python310\\site-packages\\pandas\\core\\algorithms.py:1814\u001b[0m in \u001b[0;35mmap_array\u001b[0m\n    return lib.map_infer(values, mapper, convert=convert)\u001b[0m\n",
      "\u001b[0m  File \u001b[0;32mlib.pyx:2920\u001b[0m in \u001b[0;35mpandas._libs.lib.map_infer\u001b[0m\n",
      "\u001b[0m  File \u001b[0;32mo:\\recipe_recommendation\\finding_scraps.py:415\u001b[0m in \u001b[0;35mingredient_parser\u001b[0m\n    i = i.translate(translator)\u001b[0m\n",
      "\u001b[0m  File \u001b[0;32mC:\\Program Files\\WindowsApps\\PythonSoftwareFoundation.Python.3.10_3.10.3056.0_x64__qbz5n2kfra8p0\\lib\\ast.py:64\u001b[0m in \u001b[0;35mliteral_eval\u001b[0m\n    node_or_string = parse(node_or_string.lstrip(\" \\t\"), mode='eval')\u001b[0m\n",
      "\u001b[1;36m  File \u001b[1;32mC:\\Program Files\\WindowsApps\\PythonSoftwareFoundation.Python.3.10_3.10.3056.0_x64__qbz5n2kfra8p0\\lib\\ast.py:50\u001b[1;36m in \u001b[1;35mparse\u001b[1;36m\n\u001b[1;33m    return compile(source, filename, mode, flags,\u001b[1;36m\n",
      "\u001b[1;36m  File \u001b[1;32m<unknown>:1\u001b[1;36m\u001b[0m\n\u001b[1;33m    Chicken egg: 1 piece, soft cottage cheese: 200 g, wheat flour: 30 g, sugar: to taste, salt: to taste\u001b[0m\n\u001b[1;37m            ^\u001b[0m\n\u001b[1;31mSyntaxError\u001b[0m\u001b[1;31m:\u001b[0m invalid syntax\n"
     ]
    }
   ],
   "source": [
    "data['parsed_new'] = data['ingredient'].apply(ingredient_parser)\n",
    "data.head()"
   ]
  }
 ],
 "metadata": {
  "kernelspec": {
   "display_name": "Python 3",
   "language": "python",
   "name": "python3"
  },
  "language_info": {
   "codemirror_mode": {
    "name": "ipython",
    "version": 3
   },
   "file_extension": ".py",
   "mimetype": "text/x-python",
   "name": "python",
   "nbconvert_exporter": "python",
   "pygments_lexer": "ipython3",
   "version": "3.10.11"
  }
 },
 "nbformat": 4,
 "nbformat_minor": 2
}
